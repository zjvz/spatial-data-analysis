{
 "cells": [
  {
   "cell_type": "markdown",
   "id": "6ed15444",
   "metadata": {},
   "source": [
    "# Badanie intensywności procesów punktowych"
   ]
  },
  {
   "cell_type": "code",
   "execution_count": 1,
   "id": "c54fdbba",
   "metadata": {},
   "outputs": [],
   "source": [
    "import numpy as np\n",
    "import pandas as pd\n",
    "import scipy as sp\n",
    "import matplotlib as mpl\n",
    "import matplotlib.pyplot as plt\n",
    "import seaborn as sns"
   ]
  },
  {
   "cell_type": "code",
   "execution_count": 2,
   "id": "89b44a00",
   "metadata": {},
   "outputs": [],
   "source": [
    "def point_count_on_subregions(points, bins, x_lim, y_lim):\n",
    "    xpoints=np.linspace(x_lim[0], x_lim[1], bins[0]+1)\n",
    "    ypoints=np.linspace(y_lim[0], y_lim[1], bins[1]+1)\n",
    "    \n",
    "    H, xedges, yedges = np.histogram2d(points[\"X\"], points[\"Y\"], bins=(xpoints, ypoints))\n",
    "    H = H.T\n",
    "    return [xpoints,ypoints,H]\n",
    "\n",
    "points_1=pd.read_csv('points_1.csv')\n",
    "points_2=pd.read_csv('points_2.csv')\n",
    "points_3=pd.read_csv('points_3.csv')"
   ]
  },
  {
   "cell_type": "markdown",
   "id": "3158c33f",
   "metadata": {},
   "source": [
    "Test chi-kwadrat Pearsona"
   ]
  },
  {
   "cell_type": "code",
   "execution_count": 3,
   "id": "e257a797",
   "metadata": {},
   "outputs": [
    {
     "name": "stdout",
     "output_type": "stream",
     "text": [
      "Test chi-kwadrat Pearsona\n",
      "H0: Testowana zmienna ma przyjęty rozkład teoretyczny\n",
      "H1: Testowana zmienna nie ma przyjętego rozkładu teoretycznego\n",
      "chi2 = 17.775385349094424 chi2_alfa = 22.362032494826934\n",
      "chi2 < chi2_alfa\n",
      "Wynik testu istotności nie daje podstaw do odrzucenia H0 na rzecz H1 na poziomie istotności alpha = 0.05\n",
      "Test chi-kwadrat Pearsona\n",
      "H0: Testowana zmienna ma przyjęty rozkład teoretyczny\n",
      "H1: Testowana zmienna nie ma przyjętego rozkładu teoretycznego\n",
      "chi2 = 86.27901230036937 chi2_alfa = 22.362032494826934\n",
      "chi2 >= chi2_alfa\n",
      "Odrzucenie H0 na rzecz H1 na poziomie istotności alpha = 0.05\n"
     ]
    }
   ],
   "source": [
    "def distribution_table(bin_counts):\n",
    "    \"\"\"\n",
    "    Parameters\n",
    "    -------\n",
    "    bin_counts: array\n",
    "        Macierz 2D z liczbą punków przypisanych do każdego z podobszarów.\n",
    "\n",
    "    Returns\n",
    "    -------\n",
    "    table: DataFrame\n",
    "        Tablica zawierająca 2 kolumny:\n",
    "        - \"K\", która zawiera wszystkie wartości całkowite z zakresu od minimalnej do maksymalnej liczby zliczeń w obrębie podobszarów,\n",
    "        - \"N(K)\", która zawiera liczby podobszarów, którym zostały przypisane poszczególne liczby punktów.\n",
    "    \"\"\"    \n",
    "    min_ob=bin_counts.min()\n",
    "    max_ob=bin_counts.max()\n",
    "    K=np.arange(min_ob,max_ob+1)\n",
    "    n=[]\n",
    "    for i in K:\n",
    "        n.append(np.sum(bin_counts==i))\n",
    "    return pd.DataFrame({\"K\":K.flatten(), \"N(K)\":n})\n",
    "\n",
    "def poisson_distribution_table(k, mu):\n",
    "    \"\"\"\n",
    "    Parameters\n",
    "    -------\n",
    "    k: array\n",
    "        Macierz 1D z wariantami badanej cechy, dla którym ma zostać wyliczone prawdopodobieństwo.\n",
    "    mu: int\n",
    "        Wartość oczekiwana rozkładu Poissona.\n",
    "\n",
    "    Returns\n",
    "    -------\n",
    "    table: DataFrame\n",
    "        Tablica zawierająca 2 kolumny:\n",
    "        - \"K\", która zawiera warianty badanej cechy,\n",
    "        - \"P(K)\", która zawiera wartości prawdopodobieństw rozkładu Poissona wyliczone dla wartości oczekiwanej mu\n",
    "        oraz poszczególnych wariantów badanej cechy znormalizowane do sumy wartości równej 1.\n",
    "    \"\"\"  \n",
    "    p=sp.stats.poisson.pmf(k, mu)\n",
    "    p=p/np.sum(p)\n",
    "    return pd.DataFrame({\"K\":k, \"P(K)\":p})\n",
    "\n",
    "def pearsons_chi2_test(tested_distribution, theoretical_distribution, alpha, ddof):\n",
    "    \"\"\"\n",
    "    Parameters\n",
    "    -------\n",
    "    tested_distribution: DataFrame\n",
    "        Tablica opisująca testowany rozkład i zawierająca 2 kolumny:\n",
    "        - \"K\", która zawiera warianty badanej cechy, wartości muszą być identycznej jak kolumna \"K\" zmiennej lokalnej theoretical_distribution,\n",
    "        - \"N(K)\", która zawiera liczebności poszczególnych wariantów badanej cechy.\n",
    "\n",
    "    theoretical_distribution: DataFrame\n",
    "        Tablica opisująca rozkład teoretyczny i zawierająca 2 kolumny:\n",
    "        - \"K\", która zawiera warianty badanej cechy, wartości muszą być identycznej jak kolumna \"K\" zmiennej lokalnej tested_distribution,\n",
    "        - \"P(K)\", która zawiera prawdopodobieństwa poszczególnych wariantów badanej cechy. Wartości z tej kolumny muszą sumować się do 1.\n",
    "    \n",
    "    alpha: float\n",
    "        Wartość z zakresu [0,1] określająca poziom istotności.\n",
    "    \n",
    "    ddof: int\n",
    "        Liczba nieujemna określająca liczbę nieznanych parametrów rozkładu.\n",
    "    \"\"\"\n",
    "    chi_kwadrat=0\n",
    "    n=0\n",
    "    s=np.size(tested_distribution[\"K\"])\n",
    "    n=sum(tested_distribution[\"N(K)\"])\n",
    "    chi_kwadrat=np.sum((tested_distribution[\"N(K)\"]-n*theoretical_distribution[\"P(K)\"])**2/n/theoretical_distribution[\"P(K)\"])\n",
    "    chi_kwadrat_alfa=sp.stats.chi2.ppf(1-alpha,s-1)\n",
    "    \n",
    "    print(\"Test chi-kwadrat Pearsona\")\n",
    "    print(\"H0: Testowana zmienna ma przyjęty rozkład teoretyczny\")\n",
    "    print(\"H1: Testowana zmienna nie ma przyjętego rozkładu teoretycznego\")\n",
    "    print(\"chi2 = {} chi2_alfa = {}\".format(chi_kwadrat, chi_kwadrat_alfa))\n",
    "    if(chi_kwadrat<chi_kwadrat_alfa):\n",
    "        print(\"chi2 < chi2_alfa\")\n",
    "        print(\"Wynik testu istotności nie daje podstaw do odrzucenia H0 na rzecz H1 na poziomie istotności alpha = {}\".format(alpha))\n",
    "    else:\n",
    "        print(\"chi2 >= chi2_alfa\")\n",
    "        print(\"Odrzucenie H0 na rzecz H1 na poziomie istotności alpha = {}\".format(alpha))\n",
    "\n",
    "count_1=point_count_on_subregions(points_1, [40,20],[0,20],[0,10])[2].T\n",
    "dt1=distribution_table(count_1)\n",
    "dpt1=poisson_distribution_table(dt1[\"K\"],20*(20*10)/(40*20))\n",
    "pearsons_chi2_test(dt1, dpt1, 0.05, 0)\n",
    "\n",
    "count_2=point_count_on_subregions(points_2, [40,20],[0,20],[0,10])[2].T\n",
    "dt2=distribution_table(count_2)\n",
    "dpt2=poisson_distribution_table(dt2[\"K\"],20*(20*10)/(40*20))\n",
    "pearsons_chi2_test(dt2, dpt2, 0.05, 0)"
   ]
  },
  {
   "cell_type": "markdown",
   "id": "2a35b07f",
   "metadata": {},
   "source": [
    "Test Kołmogorowa - Smirnowa"
   ]
  },
  {
   "cell_type": "code",
   "execution_count": 4,
   "id": "1c9693ea",
   "metadata": {},
   "outputs": [
    {
     "name": "stdout",
     "output_type": "stream",
     "text": [
      "Test Kołmogorowa-Smirnowa dla współrzędnej X\n",
      "H0: Testowana zmienna ma przyjęty rozkład teoretyczny\n",
      "H1: Testowana zmienna nie ma przyjętego rozkładu teoretycznego\n",
      "lambda = 2.156 lambda_alfa = 1.358\n",
      "lambda >= D_alfa\n",
      "Odrzucenie H0 na rzecz H1 na poziomie istotności alpha = 0.05\n",
      "Test Kołmogorowa-Smirnowa dla współrzędnej Y\n",
      "H0: Testowana zmienna ma przyjęty rozkład teoretyczny\n",
      "H1: Testowana zmienna nie ma przyjętego rozkładu teoretycznego\n",
      "lambda = 0.571 lambda_alfa = 1.358\n",
      "lambda < D_alfa\n",
      "Wynik testu istotności nie daje podstaw do odrzucenia H0 na rzecz H1 na poziomie istotności alpha = 0.05\n"
     ]
    }
   ],
   "source": [
    "def kolmogorow_smirnow_test(tested_points, theoretical_points, alpha, ddof):\n",
    "    \"\"\"\n",
    "    Parameters\n",
    "    -------\n",
    "    tested_points: DataFrame\n",
    "        Tablica zawierająca kolumnę ze współrzędnymi punktów testowanego rozkładu opisaną jako \"X\" lub \"Y\".\n",
    "\n",
    "    theoretical_points: DataFrame\n",
    "        Tablica zawierająca kolumnę ze współrzędnymi punktów toeretycznego rozkładu opisaną jako \"X\" lub \"Y\".\n",
    "    \n",
    "    alpha: float\n",
    "        Wartość z zakresu [0,1] określająca poziom istotności.\n",
    "    \n",
    "    ddof: int\n",
    "        Liczba nieujemna określająca liczbę nieznanych parametrów rozkładu.\n",
    "    \"\"\"\n",
    "    l_a=sp.stats.kstwobign.ppf(0.95)\n",
    "    D, pvalue = sp.stats.kstest(tested_points.squeeze(),theoretical_points.squeeze())\n",
    "    l = D*tested_points.size**0.5\n",
    "    print(\"Test Kołmogorowa-Smirnowa dla współrzędnej {}\".format(tested_points.columns[0]))\n",
    "    print(\"H0: Testowana zmienna ma przyjęty rozkład teoretyczny\")\n",
    "    print(\"H1: Testowana zmienna nie ma przyjętego rozkładu teoretycznego\")\n",
    "    print(\"lambda = {} lambda_alfa = {}\".format(round(l,3), round(l_a,3)))\n",
    "    if(l<l_a):\n",
    "        print(\"lambda < D_alfa\")\n",
    "        print(\"Wynik testu istotności nie daje podstaw do odrzucenia H0 na rzecz H1 na poziomie istotności alpha = {}\".format(alpha))\n",
    "    else:\n",
    "        print(\"lambda >= D_alfa\")\n",
    "        print(\"Odrzucenie H0 na rzecz H1 na poziomie istotności alpha = {}\".format(alpha))\n",
    "    \n",
    "theoretical_points=np.linspace(0,20,np.size(points_3[\"X\"]))\n",
    "kolmogorow_smirnow_test(points_3[[\"X\"]], theoretical_points, 0.05, 0)\n",
    "theoretical_points=np.linspace(0,10,np.size(points_3[\"Y\"]))\n",
    "kolmogorow_smirnow_test(points_3[[\"Y\"]], theoretical_points, 0.05, 0)"
   ]
  }
 ],
 "metadata": {
  "kernelspec": {
   "display_name": "Python 3 (ipykernel)",
   "language": "python",
   "name": "python3"
  },
  "language_info": {
   "codemirror_mode": {
    "name": "ipython",
    "version": 3
   },
   "file_extension": ".py",
   "mimetype": "text/x-python",
   "name": "python",
   "nbconvert_exporter": "python",
   "pygments_lexer": "ipython3",
   "version": "3.9.12"
  }
 },
 "nbformat": 4,
 "nbformat_minor": 5
}
